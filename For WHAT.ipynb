{
 "cells": [
  {
   "cell_type": "code",
   "execution_count": 205,
   "id": "7566236c",
   "metadata": {},
   "outputs": [],
   "source": [
    "import os, re, io, tqdm, datetime, torch\n",
    "\n",
    "import torch.nn as nn, numpy as np, pandas as pd, matplotlib as mpl, matplotlib.pyplot as plt, seaborn as sns\n",
    "\n",
    "import warnings\n",
    "warnings.filterwarnings(action= 'ignore')\n",
    "\n",
    "from sklearn.model_selection import train_test_split\n",
    "from sklearn.metrics import mean_absolute_error, mean_squared_error, r2_score\n",
    "from sklearn.preprocessing import MinMaxScaler, StandardScaler, RobustScaler\n",
    "\n",
    "\n",
    "mpl.rcParams['figure.figsize'] = [16, 9]"
   ]
  },
  {
   "cell_type": "markdown",
   "id": "ababa1e4",
   "metadata": {},
   "source": [
    "## Creating PyTorch Model"
   ]
  },
  {
   "cell_type": "code",
   "execution_count": 276,
   "id": "01baf11c",
   "metadata": {},
   "outputs": [
    {
     "data": {
      "text/plain": [
       "RegressionModel(\n",
       "  (dense_layer1): Linear(in_features=8, out_features=64, bias=True)\n",
       "  (relu1): ReLU()\n",
       "  (dense_layer2): Linear(in_features=64, out_features=128, bias=True)\n",
       "  (relu2): ReLU()\n",
       "  (dense_layer3): Linear(in_features=128, out_features=64, bias=True)\n",
       "  (relu3): ReLU()\n",
       "  (dense_layer4): Linear(in_features=64, out_features=32, bias=True)\n",
       "  (relu4): ReLU()\n",
       "  (output_layer): Linear(in_features=32, out_features=1, bias=True)\n",
       ")"
      ]
     },
     "execution_count": 276,
     "metadata": {},
     "output_type": "execute_result"
    }
   ],
   "source": [
    "class RegressionModel(nn.Module):\n",
    "    def __init__(self):\n",
    "        super(RegressionModel, self).__init__() #first 3 lines are fixed\n",
    "        self.dense_layer1 = nn.Linear(8, 64)\n",
    "        self.relu1 = nn.ReLU()\n",
    "        self.dense_layer2 = nn.Linear(64, 128)\n",
    "        self.relu2 = nn.ReLU()\n",
    "        self.dense_layer3 = nn.Linear(128, 64)\n",
    "        self.relu3 = nn.ReLU()\n",
    "#         self.dense_layer4 = nn.Linear(256, 128)\n",
    "#         self.relu4 = nn.ReLU()\n",
    "#         self.dense_layer5 = nn.Linear(128, 64)\n",
    "#         self.relu5 = nn.ReLU()\n",
    "        self.dense_layer4 = nn.Linear(64, 32)\n",
    "        self.relu4 = nn.ReLU()\n",
    "        self.output_layer = nn.Linear(32, 1)\n",
    "        \n",
    "    def forward(self, X):\n",
    "        X = self.dense_layer1(X)\n",
    "        X = self.relu1(X)\n",
    "        X = self.dense_layer2(X)\n",
    "        X = self.relu2(X)\n",
    "        X = self.dense_layer3(X)\n",
    "        X = self.relu3(X)\n",
    "        X = self.dense_layer4(X)\n",
    "        X = self.relu4(X)\n",
    "#         X = self.dense_layer5(X)\n",
    "#         X = self.relu5(X)\n",
    "        X = self.output_layer(X)\n",
    "        \n",
    "        return X\n",
    "    \n",
    "regression_model = RegressionModel()\n",
    "regression_model"
   ]
  },
  {
   "cell_type": "code",
   "execution_count": 289,
   "id": "a4494338",
   "metadata": {},
   "outputs": [],
   "source": [
    "url = 'https://github.com/stedy/Machine-Learning-with-R-datasets/blob/master/insurance.csv'\n",
    "df = pd.read_csv(r\"C:\\Users\\zeynalovaf\\Downloads\\insurance.csv\", on_bad_lines='skip', index_col= 0)\n",
    "df = df.reset_index()\n",
    "df.drop('region', axis= 1, inplace= True)\n",
    "# df['region'] = df['region'].replace({'southwest': 'south', 'southeast': 'south', 'northwest': 'north', 'northeast': 'north'})\n",
    "df = pd.get_dummies(df, columns= df.select_dtypes(include= 'object').columns, drop_first= True)"
   ]
  },
  {
   "cell_type": "code",
   "execution_count": 212,
   "id": "4fabf6d0",
   "metadata": {},
   "outputs": [
    {
     "data": {
      "text/plain": [
       "array(['southwest', 'southeast', 'northwest', 'northeast'], dtype=object)"
      ]
     },
     "execution_count": 212,
     "metadata": {},
     "output_type": "execute_result"
    }
   ],
   "source": [
    "df['region'].unique()"
   ]
  },
  {
   "cell_type": "code",
   "execution_count": 293,
   "id": "3dfbed56",
   "metadata": {},
   "outputs": [],
   "source": [
    "mean = df['charges'].mean()\n",
    "std = df['charges'].std()\n",
    "\n",
    "\n",
    "scaled_charges = (np.array(df['charges']) - mean) /  std"
   ]
  },
  {
   "cell_type": "code",
   "execution_count": 295,
   "id": "b603f0d9",
   "metadata": {},
   "outputs": [
    {
     "data": {
      "text/plain": [
       "4.170103954308562"
      ]
     },
     "execution_count": 295,
     "metadata": {},
     "output_type": "execute_result"
    }
   ],
   "source": [
    "scaled_charges.max()"
   ]
  },
  {
   "cell_type": "code",
   "execution_count": 296,
   "id": "21038ecc",
   "metadata": {},
   "outputs": [
    {
     "data": {
      "text/plain": [
       "-1.0031822537315649"
      ]
     },
     "execution_count": 296,
     "metadata": {},
     "output_type": "execute_result"
    }
   ],
   "source": [
    "scaled_charges.min()"
   ]
  },
  {
   "cell_type": "code",
   "execution_count": 299,
   "id": "8cb21af8",
   "metadata": {},
   "outputs": [],
   "source": [
    "mean = np.arange(1, 11).mean()\n",
    "std = np.arange(1, 11).std()\n",
    "\n",
    "\n",
    "scaled_charges = (np.arange(1, 11) - mean) /  std"
   ]
  },
  {
   "cell_type": "code",
   "execution_count": 300,
   "id": "8a259061",
   "metadata": {},
   "outputs": [
    {
     "data": {
      "text/plain": [
       "(1.5666989036012806, -1.5666989036012806)"
      ]
     },
     "execution_count": 300,
     "metadata": {},
     "output_type": "execute_result"
    }
   ],
   "source": [
    "scaled_charges.max(), scaled_charges.min()"
   ]
  },
  {
   "cell_type": "code",
   "execution_count": 214,
   "id": "c41f675f",
   "metadata": {},
   "outputs": [],
   "source": [
    "StandardScaler()\n",
    "\n",
    "#z = (x - u) / s 1.52 -1.52"
   ]
  },
  {
   "cell_type": "code",
   "execution_count": 311,
   "id": "68e3dd5f",
   "metadata": {},
   "outputs": [
    {
     "data": {
      "text/plain": [
       "(torch.Size([1204, 8]),\n",
       " torch.Size([134, 8]),\n",
       " torch.Size([1204, 1]),\n",
       " torch.Size([134, 1]))"
      ]
     },
     "execution_count": 311,
     "metadata": {},
     "output_type": "execute_result"
    }
   ],
   "source": [
    "EPOCHS = 200\n",
    "LEARNING_RATE = 0.01\n",
    "BATCH_SIZE = 64\n",
    "BATCH_START = torch.arange(0, len(X_train) - len(X_train) % BATCH_SIZE, BATCH_SIZE)\n",
    "\n",
    "optimizer = torch.optim.Adam(regression_model.parameters(), lr = LEARNING_RATE)\n",
    "mse_loss = nn.MSELoss()\n",
    "mae_loss = nn.L1Loss()\n",
    "huber_loss = nn.SmoothL1Loss(beta= 1)\n",
    "\n",
    "url = 'https://github.com/stedy/Machine-Learning-with-R-datasets/blob/master/insurance.csv'\n",
    "df = pd.read_csv(r\"C:\\Users\\zeynalovaf\\Downloads\\insurance.csv\", on_bad_lines='skip', index_col= 0)\n",
    "df = df.reset_index()\n",
    "df = pd.get_dummies(df, columns= df.select_dtypes(include= 'object').columns, drop_first= True)\n",
    "\n",
    "y = df['charges']\n",
    "X = df.drop('charges', axis= 1).to_numpy()\n",
    "\n",
    "X_train, X_test, y_train, y_test = train_test_split(X, y, test_size= 0.10, random_state= 55)\n",
    "scalling_method = MinMaxScaler()\n",
    "X_train = scalling_method.fit_transform(X_train)\n",
    "X_test = scalling_method.transform(X_test)\n",
    "\n",
    "\n",
    "X_train = torch.tensor(X_train, dtype= torch.float32)\n",
    "X_test = torch.tensor(X_test, dtype= torch.float32)\n",
    "y_train = torch.tensor(np.array(y_train).reshape(-1, 1), dtype= torch.float32)\n",
    "y_test = torch.tensor(np.array(y_test).reshape(-1, 1), dtype= torch.float32)\n",
    "\n",
    "\n",
    "X_train.shape, X_test.shape, y_train.shape, y_test.shape"
   ]
  },
  {
   "cell_type": "code",
   "execution_count": 254,
   "id": "6a0d8e8a",
   "metadata": {},
   "outputs": [
    {
     "data": {
      "text/plain": [
       "tensor([   0,   64,  128,  192,  256,  320,  384,  448,  512,  576,  640,  704,\n",
       "         768,  832,  896,  960, 1024, 1088])"
      ]
     },
     "execution_count": 254,
     "metadata": {},
     "output_type": "execute_result"
    }
   ],
   "source": [
    "BATCH_START"
   ]
  },
  {
   "cell_type": "code",
   "execution_count": null,
   "id": "66948cea",
   "metadata": {},
   "outputs": [],
   "source": []
  },
  {
   "cell_type": "code",
   "execution_count": 312,
   "id": "0e12610b",
   "metadata": {},
   "outputs": [
    {
     "name": "stderr",
     "output_type": "stream",
     "text": [
      "Epoch 1: 100%|███████████████████████████████████████████████████████| 18/18 [00:00<00:00, 206.94batch/s, huber=2089.8]\n",
      "Epoch 2: 100%|███████████████████████████████████████████████████████| 18/18 [00:00<00:00, 229.37batch/s, huber=2095.2]\n",
      "Epoch 3: 100%|███████████████████████████████████████████████████████| 18/18 [00:00<00:00, 224.46batch/s, huber=2037.2]\n",
      "Epoch 4: 100%|███████████████████████████████████████████████████████| 18/18 [00:00<00:00, 166.70batch/s, huber=2026.9]\n",
      "Epoch 5: 100%|███████████████████████████████████████████████████████| 18/18 [00:00<00:00, 223.95batch/s, huber=1991.3]\n",
      "Epoch 6: 100%|███████████████████████████████████████████████████████| 18/18 [00:00<00:00, 207.03batch/s, huber=2024.6]\n",
      "Epoch 7: 100%|███████████████████████████████████████████████████████| 18/18 [00:00<00:00, 221.27batch/s, huber=2145.4]\n",
      "Epoch 8: 100%|███████████████████████████████████████████████████████| 18/18 [00:00<00:00, 210.81batch/s, huber=2108.7]\n",
      "Epoch 9: 100%|███████████████████████████████████████████████████████| 18/18 [00:00<00:00, 202.06batch/s, huber=2045.2]\n",
      "Epoch 10: 100%|██████████████████████████████████████████████████████| 18/18 [00:00<00:00, 186.69batch/s, huber=2043.4]\n",
      "Epoch 11: 100%|██████████████████████████████████████████████████████| 18/18 [00:00<00:00, 212.97batch/s, huber=2056.0]\n",
      "Epoch 12: 100%|██████████████████████████████████████████████████████| 18/18 [00:00<00:00, 212.05batch/s, huber=2033.5]\n",
      "Epoch 13: 100%|██████████████████████████████████████████████████████| 18/18 [00:00<00:00, 213.05batch/s, huber=2044.5]\n",
      "Epoch 14: 100%|██████████████████████████████████████████████████████| 18/18 [00:00<00:00, 205.95batch/s, huber=1975.5]\n",
      "Epoch 15: 100%|██████████████████████████████████████████████████████| 18/18 [00:00<00:00, 213.11batch/s, huber=2015.1]\n",
      "Epoch 16: 100%|██████████████████████████████████████████████████████| 18/18 [00:00<00:00, 216.01batch/s, huber=2180.0]\n",
      "Epoch 17: 100%|██████████████████████████████████████████████████████| 18/18 [00:00<00:00, 224.60batch/s, huber=2095.5]\n",
      "Epoch 18: 100%|██████████████████████████████████████████████████████| 18/18 [00:00<00:00, 204.87batch/s, huber=2017.1]\n",
      "Epoch 19: 100%|██████████████████████████████████████████████████████| 18/18 [00:00<00:00, 216.99batch/s, huber=2173.1]\n",
      "Epoch 20: 100%|██████████████████████████████████████████████████████| 18/18 [00:00<00:00, 208.50batch/s, huber=2037.5]\n",
      "Epoch 21: 100%|██████████████████████████████████████████████████████| 18/18 [00:00<00:00, 201.62batch/s, huber=1975.9]\n",
      "Epoch 22: 100%|██████████████████████████████████████████████████████| 18/18 [00:00<00:00, 150.50batch/s, huber=2016.6]\n",
      "Epoch 23: 100%|██████████████████████████████████████████████████████| 18/18 [00:00<00:00, 212.05batch/s, huber=1992.7]\n",
      "Epoch 24: 100%|██████████████████████████████████████████████████████| 18/18 [00:00<00:00, 205.19batch/s, huber=2071.6]\n",
      "Epoch 25: 100%|██████████████████████████████████████████████████████| 18/18 [00:00<00:00, 214.05batch/s, huber=2123.3]\n",
      "Epoch 26: 100%|██████████████████████████████████████████████████████| 18/18 [00:00<00:00, 196.72batch/s, huber=2120.7]\n",
      "Epoch 27: 100%|██████████████████████████████████████████████████████| 18/18 [00:00<00:00, 194.97batch/s, huber=2139.0]\n",
      "Epoch 28: 100%|██████████████████████████████████████████████████████| 18/18 [00:00<00:00, 217.89batch/s, huber=2073.1]\n",
      "Epoch 29: 100%|██████████████████████████████████████████████████████| 18/18 [00:00<00:00, 204.90batch/s, huber=2080.7]\n",
      "Epoch 30: 100%|██████████████████████████████████████████████████████| 18/18 [00:00<00:00, 206.24batch/s, huber=2086.2]\n",
      "Epoch 31: 100%|██████████████████████████████████████████████████████| 18/18 [00:00<00:00, 214.03batch/s, huber=2020.7]\n",
      "Epoch 32: 100%|██████████████████████████████████████████████████████| 18/18 [00:00<00:00, 201.85batch/s, huber=2068.8]\n",
      "Epoch 33: 100%|██████████████████████████████████████████████████████| 18/18 [00:00<00:00, 140.96batch/s, huber=2031.7]\n",
      "Epoch 34: 100%|██████████████████████████████████████████████████████| 18/18 [00:00<00:00, 207.00batch/s, huber=2014.7]\n",
      "Epoch 35: 100%|██████████████████████████████████████████████████████| 18/18 [00:00<00:00, 220.97batch/s, huber=1991.6]\n",
      "Epoch 36: 100%|██████████████████████████████████████████████████████| 18/18 [00:00<00:00, 230.53batch/s, huber=2032.7]\n",
      "Epoch 37: 100%|██████████████████████████████████████████████████████| 18/18 [00:00<00:00, 229.19batch/s, huber=2040.0]\n",
      "Epoch 38: 100%|██████████████████████████████████████████████████████| 18/18 [00:00<00:00, 218.49batch/s, huber=2026.7]\n",
      "Epoch 39: 100%|██████████████████████████████████████████████████████| 18/18 [00:00<00:00, 227.59batch/s, huber=2019.6]\n",
      "Epoch 40: 100%|██████████████████████████████████████████████████████| 18/18 [00:00<00:00, 211.20batch/s, huber=2049.6]\n",
      "Epoch 41: 100%|██████████████████████████████████████████████████████| 18/18 [00:00<00:00, 215.25batch/s, huber=2024.9]\n",
      "Epoch 42: 100%|██████████████████████████████████████████████████████| 18/18 [00:00<00:00, 125.55batch/s, huber=1986.8]\n",
      "Epoch 43: 100%|██████████████████████████████████████████████████████| 18/18 [00:00<00:00, 184.67batch/s, huber=2055.3]\n",
      "Epoch 44: 100%|██████████████████████████████████████████████████████| 18/18 [00:00<00:00, 205.13batch/s, huber=2007.1]\n",
      "Epoch 45: 100%|██████████████████████████████████████████████████████| 18/18 [00:00<00:00, 215.96batch/s, huber=2091.8]\n",
      "Epoch 46: 100%|██████████████████████████████████████████████████████| 18/18 [00:00<00:00, 208.49batch/s, huber=2041.7]\n",
      "Epoch 47: 100%|██████████████████████████████████████████████████████| 18/18 [00:00<00:00, 199.14batch/s, huber=2053.1]\n",
      "Epoch 48: 100%|██████████████████████████████████████████████████████| 18/18 [00:00<00:00, 215.13batch/s, huber=2145.9]\n",
      "Epoch 49: 100%|██████████████████████████████████████████████████████| 18/18 [00:00<00:00, 208.73batch/s, huber=2079.9]\n",
      "Epoch 50: 100%|██████████████████████████████████████████████████████| 18/18 [00:00<00:00, 150.15batch/s, huber=2037.8]\n",
      "Epoch 51: 100%|██████████████████████████████████████████████████████| 18/18 [00:00<00:00, 209.21batch/s, huber=2019.2]\n",
      "Epoch 52: 100%|████████████████████████████████████████████████████████| 18/18 [00:00<00:00, 196.44batch/s, huber=2e+3]\n",
      "Epoch 53: 100%|██████████████████████████████████████████████████████| 18/18 [00:00<00:00, 242.27batch/s, huber=2086.1]\n",
      "Epoch 54: 100%|██████████████████████████████████████████████████████| 18/18 [00:00<00:00, 190.95batch/s, huber=2022.0]\n",
      "Epoch 55: 100%|██████████████████████████████████████████████████████| 18/18 [00:00<00:00, 201.58batch/s, huber=2105.4]\n",
      "Epoch 56: 100%|██████████████████████████████████████████████████████| 18/18 [00:00<00:00, 191.02batch/s, huber=2007.4]\n",
      "Epoch 57: 100%|██████████████████████████████████████████████████████| 18/18 [00:00<00:00, 132.73batch/s, huber=2023.1]\n",
      "Epoch 58: 100%|████████████████████████████████████████████████████████| 18/18 [00:00<00:00, 188.92batch/s, huber=2e+3]\n",
      "Epoch 59: 100%|██████████████████████████████████████████████████████| 18/18 [00:00<00:00, 197.96batch/s, huber=2075.0]\n",
      "Epoch 60: 100%|██████████████████████████████████████████████████████| 18/18 [00:00<00:00, 187.37batch/s, huber=2045.2]\n",
      "Epoch 61: 100%|██████████████████████████████████████████████████████| 18/18 [00:00<00:00, 204.38batch/s, huber=2149.8]\n",
      "Epoch 62: 100%|██████████████████████████████████████████████████████| 18/18 [00:00<00:00, 197.04batch/s, huber=2059.9]\n",
      "Epoch 63: 100%|██████████████████████████████████████████████████████| 18/18 [00:00<00:00, 126.79batch/s, huber=1993.4]\n",
      "Epoch 64: 100%|██████████████████████████████████████████████████████| 18/18 [00:00<00:00, 163.37batch/s, huber=2043.9]\n",
      "Epoch 65: 100%|██████████████████████████████████████████████████████| 18/18 [00:00<00:00, 169.16batch/s, huber=2081.2]\n",
      "Epoch 66: 100%|██████████████████████████████████████████████████████| 18/18 [00:00<00:00, 168.56batch/s, huber=2086.3]\n",
      "Epoch 67: 100%|██████████████████████████████████████████████████████| 18/18 [00:00<00:00, 160.06batch/s, huber=1991.1]\n",
      "Epoch 68: 100%|██████████████████████████████████████████████████████| 18/18 [00:00<00:00, 169.74batch/s, huber=2111.3]\n"
     ]
    },
    {
     "name": "stderr",
     "output_type": "stream",
     "text": [
      "Epoch 69: 100%|██████████████████████████████████████████████████████| 18/18 [00:00<00:00, 124.90batch/s, huber=2008.9]\n",
      "Epoch 70: 100%|██████████████████████████████████████████████████████| 18/18 [00:00<00:00, 152.11batch/s, huber=2085.4]\n",
      "Epoch 71: 100%|██████████████████████████████████████████████████████| 18/18 [00:00<00:00, 165.40batch/s, huber=2083.7]\n",
      "Epoch 72: 100%|██████████████████████████████████████████████████████| 18/18 [00:00<00:00, 170.57batch/s, huber=2059.3]\n",
      "Epoch 73: 100%|██████████████████████████████████████████████████████| 18/18 [00:00<00:00, 179.59batch/s, huber=2007.4]\n",
      "Epoch 74: 100%|██████████████████████████████████████████████████████| 18/18 [00:00<00:00, 183.40batch/s, huber=2049.4]\n",
      "Epoch 75: 100%|██████████████████████████████████████████████████████| 18/18 [00:00<00:00, 170.77batch/s, huber=1989.5]\n",
      "Epoch 76: 100%|██████████████████████████████████████████████████████| 18/18 [00:00<00:00, 164.74batch/s, huber=2029.7]\n",
      "Epoch 77: 100%|████████████████████████████████████████████████████████| 18/18 [00:00<00:00, 156.85batch/s, huber=2e+3]\n",
      "Epoch 78: 100%|██████████████████████████████████████████████████████| 18/18 [00:00<00:00, 135.35batch/s, huber=2105.6]\n",
      "Epoch 79: 100%|██████████████████████████████████████████████████████| 18/18 [00:00<00:00, 126.41batch/s, huber=2037.8]\n",
      "Epoch 80: 100%|██████████████████████████████████████████████████████| 18/18 [00:00<00:00, 119.68batch/s, huber=2036.1]\n",
      "Epoch 81: 100%|██████████████████████████████████████████████████████| 18/18 [00:00<00:00, 133.63batch/s, huber=2213.3]\n",
      "Epoch 82: 100%|██████████████████████████████████████████████████████| 18/18 [00:00<00:00, 124.18batch/s, huber=2086.0]\n",
      "Epoch 83: 100%|██████████████████████████████████████████████████████| 18/18 [00:00<00:00, 131.12batch/s, huber=2033.6]\n",
      "Epoch 84: 100%|██████████████████████████████████████████████████████| 18/18 [00:00<00:00, 141.20batch/s, huber=1992.3]\n",
      "Epoch 85: 100%|████████████████████████████████████████████████████████| 18/18 [00:00<00:00, 165.60batch/s, huber=2e+3]\n",
      "Epoch 86: 100%|██████████████████████████████████████████████████████| 18/18 [00:00<00:00, 175.52batch/s, huber=1973.6]\n",
      "Epoch 87: 100%|██████████████████████████████████████████████████████| 18/18 [00:00<00:00, 180.88batch/s, huber=1973.2]\n",
      "Epoch 88: 100%|██████████████████████████████████████████████████████| 18/18 [00:00<00:00, 189.56batch/s, huber=2040.8]\n",
      "Epoch 89: 100%|██████████████████████████████████████████████████████| 18/18 [00:00<00:00, 109.02batch/s, huber=2011.0]\n",
      "Epoch 90: 100%|██████████████████████████████████████████████████████| 18/18 [00:00<00:00, 149.04batch/s, huber=2141.7]\n",
      "Epoch 91: 100%|██████████████████████████████████████████████████████| 18/18 [00:00<00:00, 157.88batch/s, huber=2024.7]\n",
      "Epoch 92: 100%|██████████████████████████████████████████████████████| 18/18 [00:00<00:00, 161.80batch/s, huber=2072.9]\n",
      "Epoch 93: 100%|██████████████████████████████████████████████████████| 18/18 [00:00<00:00, 159.06batch/s, huber=2043.8]\n",
      "Epoch 94: 100%|██████████████████████████████████████████████████████| 18/18 [00:00<00:00, 168.28batch/s, huber=2015.8]\n",
      "Epoch 95: 100%|██████████████████████████████████████████████████████| 18/18 [00:00<00:00, 164.61batch/s, huber=2125.4]\n",
      "Epoch 96: 100%|██████████████████████████████████████████████████████| 18/18 [00:00<00:00, 162.98batch/s, huber=2070.8]\n",
      "Epoch 97: 100%|██████████████████████████████████████████████████████| 18/18 [00:00<00:00, 149.05batch/s, huber=2025.1]\n",
      "Epoch 98: 100%|██████████████████████████████████████████████████████| 18/18 [00:00<00:00, 151.67batch/s, huber=2039.2]\n",
      "Epoch 99: 100%|██████████████████████████████████████████████████████| 18/18 [00:00<00:00, 152.42batch/s, huber=1975.1]\n",
      "Epoch 100: 100%|███████████████████████████████████████████████████████| 18/18 [00:00<00:00, 113.78batch/s, huber=2e+3]\n",
      "Epoch 101: 100%|█████████████████████████████████████████████████████| 18/18 [00:00<00:00, 129.64batch/s, huber=2007.1]\n",
      "Epoch 102: 100%|█████████████████████████████████████████████████████| 18/18 [00:00<00:00, 146.55batch/s, huber=2138.1]\n",
      "Epoch 103: 100%|███████████████████████████████████████████████████████| 18/18 [00:00<00:00, 139.07batch/s, huber=2e+3]\n",
      "Epoch 104: 100%|█████████████████████████████████████████████████████| 18/18 [00:00<00:00, 127.50batch/s, huber=2113.4]\n",
      "Epoch 105: 100%|█████████████████████████████████████████████████████| 18/18 [00:00<00:00, 131.19batch/s, huber=1980.6]\n",
      "Epoch 106: 100%|█████████████████████████████████████████████████████| 18/18 [00:00<00:00, 169.08batch/s, huber=1982.4]\n",
      "Epoch 107: 100%|█████████████████████████████████████████████████████| 18/18 [00:00<00:00, 172.75batch/s, huber=2141.4]\n",
      "Epoch 108: 100%|███████████████████████████████████████████████████████| 18/18 [00:00<00:00, 147.83batch/s, huber=2e+3]\n",
      "Epoch 109: 100%|█████████████████████████████████████████████████████| 18/18 [00:00<00:00, 163.38batch/s, huber=2005.8]\n",
      "Epoch 110: 100%|█████████████████████████████████████████████████████| 18/18 [00:00<00:00, 176.15batch/s, huber=2059.3]\n",
      "Epoch 111: 100%|█████████████████████████████████████████████████████| 18/18 [00:00<00:00, 185.17batch/s, huber=2022.7]\n",
      "Epoch 112: 100%|█████████████████████████████████████████████████████| 18/18 [00:00<00:00, 176.30batch/s, huber=2019.4]\n",
      "Epoch 113: 100%|█████████████████████████████████████████████████████| 18/18 [00:00<00:00, 182.76batch/s, huber=1983.4]\n",
      "Epoch 114: 100%|███████████████████████████████████████████████████████| 18/18 [00:00<00:00, 153.77batch/s, huber=2e+3]\n",
      "Epoch 115: 100%|█████████████████████████████████████████████████████| 18/18 [00:00<00:00, 186.49batch/s, huber=2106.1]\n",
      "Epoch 116: 100%|█████████████████████████████████████████████████████| 18/18 [00:00<00:00, 106.61batch/s, huber=2026.8]\n",
      "Epoch 117: 100%|█████████████████████████████████████████████████████| 18/18 [00:00<00:00, 150.85batch/s, huber=2019.1]\n",
      "Epoch 118: 100%|█████████████████████████████████████████████████████| 18/18 [00:00<00:00, 160.85batch/s, huber=2112.8]\n",
      "Epoch 119: 100%|█████████████████████████████████████████████████████| 18/18 [00:00<00:00, 156.14batch/s, huber=2109.3]\n",
      "Epoch 120: 100%|█████████████████████████████████████████████████████| 18/18 [00:00<00:00, 160.60batch/s, huber=2213.4]\n",
      "Epoch 121: 100%|███████████████████████████████████████████████████████| 18/18 [00:00<00:00, 155.31batch/s, huber=2e+3]\n",
      "Epoch 122: 100%|█████████████████████████████████████████████████████| 18/18 [00:00<00:00, 154.09batch/s, huber=2008.8]\n",
      "Epoch 123: 100%|█████████████████████████████████████████████████████| 18/18 [00:00<00:00, 159.78batch/s, huber=2030.6]\n",
      "Epoch 124: 100%|█████████████████████████████████████████████████████| 18/18 [00:00<00:00, 154.55batch/s, huber=2087.3]\n",
      "Epoch 125: 100%|█████████████████████████████████████████████████████| 18/18 [00:00<00:00, 175.03batch/s, huber=2006.2]\n",
      "Epoch 126: 100%|█████████████████████████████████████████████████████| 18/18 [00:00<00:00, 187.43batch/s, huber=2067.7]\n",
      "Epoch 127: 100%|█████████████████████████████████████████████████████| 18/18 [00:00<00:00, 176.11batch/s, huber=1977.7]\n",
      "Epoch 128: 100%|█████████████████████████████████████████████████████| 18/18 [00:00<00:00, 177.05batch/s, huber=2023.1]\n",
      "Epoch 129: 100%|███████████████████████████████████████████████████████| 18/18 [00:00<00:00, 187.66batch/s, huber=2e+3]\n",
      "Epoch 130: 100%|█████████████████████████████████████████████████████| 18/18 [00:00<00:00, 155.30batch/s, huber=1991.8]\n",
      "Epoch 131: 100%|███████████████████████████████████████████████████████| 18/18 [00:00<00:00, 169.36batch/s, huber=2e+3]\n",
      "Epoch 132: 100%|█████████████████████████████████████████████████████| 18/18 [00:00<00:00, 165.21batch/s, huber=2123.8]\n",
      "Epoch 133: 100%|█████████████████████████████████████████████████████| 18/18 [00:00<00:00, 178.98batch/s, huber=2017.0]\n",
      "Epoch 134: 100%|█████████████████████████████████████████████████████| 18/18 [00:00<00:00, 143.76batch/s, huber=2080.9]\n",
      "Epoch 135: 100%|█████████████████████████████████████████████████████| 18/18 [00:00<00:00, 115.53batch/s, huber=2087.2]\n",
      "Epoch 136: 100%|███████████████████████████████████████████████████████| 18/18 [00:00<00:00, 173.04batch/s, huber=2e+3]\n"
     ]
    },
    {
     "name": "stderr",
     "output_type": "stream",
     "text": [
      "Epoch 137: 100%|█████████████████████████████████████████████████████| 18/18 [00:00<00:00, 206.37batch/s, huber=2061.0]\n",
      "Epoch 138: 100%|█████████████████████████████████████████████████████| 18/18 [00:00<00:00, 213.38batch/s, huber=2039.0]\n",
      "Epoch 139: 100%|█████████████████████████████████████████████████████| 18/18 [00:00<00:00, 213.95batch/s, huber=1961.6]\n",
      "Epoch 140: 100%|█████████████████████████████████████████████████████| 18/18 [00:00<00:00, 190.23batch/s, huber=2130.6]\n",
      "Epoch 141: 100%|█████████████████████████████████████████████████████| 18/18 [00:00<00:00, 182.43batch/s, huber=2031.9]\n",
      "Epoch 142: 100%|█████████████████████████████████████████████████████| 18/18 [00:00<00:00, 161.61batch/s, huber=2045.1]\n",
      "Epoch 143: 100%|█████████████████████████████████████████████████████| 18/18 [00:00<00:00, 183.72batch/s, huber=2073.5]\n",
      "Epoch 144: 100%|█████████████████████████████████████████████████████| 18/18 [00:00<00:00, 211.31batch/s, huber=2081.8]\n",
      "Epoch 145: 100%|█████████████████████████████████████████████████████| 18/18 [00:00<00:00, 206.01batch/s, huber=2066.6]\n",
      "Epoch 146: 100%|█████████████████████████████████████████████████████| 18/18 [00:00<00:00, 205.86batch/s, huber=2031.7]\n",
      "Epoch 147: 100%|█████████████████████████████████████████████████████| 18/18 [00:00<00:00, 186.71batch/s, huber=2095.1]\n",
      "Epoch 148: 100%|███████████████████████████████████████████████████████| 18/18 [00:00<00:00, 170.87batch/s, huber=2e+3]\n",
      "Epoch 149: 100%|█████████████████████████████████████████████████████| 18/18 [00:00<00:00, 172.53batch/s, huber=2013.9]\n",
      "Epoch 150: 100%|█████████████████████████████████████████████████████| 18/18 [00:00<00:00, 173.83batch/s, huber=2035.7]\n",
      "Epoch 151: 100%|█████████████████████████████████████████████████████| 18/18 [00:00<00:00, 190.25batch/s, huber=2008.4]\n",
      "Epoch 152: 100%|█████████████████████████████████████████████████████| 18/18 [00:00<00:00, 183.86batch/s, huber=2090.0]\n",
      "Epoch 153: 100%|█████████████████████████████████████████████████████| 18/18 [00:00<00:00, 201.97batch/s, huber=2173.5]\n",
      "Epoch 154: 100%|█████████████████████████████████████████████████████| 18/18 [00:00<00:00, 189.08batch/s, huber=2024.1]\n",
      "Epoch 155: 100%|█████████████████████████████████████████████████████| 18/18 [00:00<00:00, 175.65batch/s, huber=2048.6]\n",
      "Epoch 156: 100%|█████████████████████████████████████████████████████| 18/18 [00:00<00:00, 175.04batch/s, huber=2009.8]\n",
      "Epoch 157: 100%|█████████████████████████████████████████████████████| 18/18 [00:00<00:00, 174.18batch/s, huber=2040.8]\n",
      "Epoch 158: 100%|███████████████████████████████████████████████████████| 18/18 [00:00<00:00, 183.27batch/s, huber=2e+3]\n",
      "Epoch 159: 100%|█████████████████████████████████████████████████████| 18/18 [00:00<00:00, 187.24batch/s, huber=1992.4]\n",
      "Epoch 160: 100%|█████████████████████████████████████████████████████| 18/18 [00:00<00:00, 193.88batch/s, huber=1972.0]\n",
      "Epoch 161: 100%|█████████████████████████████████████████████████████| 18/18 [00:00<00:00, 183.22batch/s, huber=2017.5]\n",
      "Epoch 162: 100%|█████████████████████████████████████████████████████| 18/18 [00:00<00:00, 181.63batch/s, huber=1980.4]\n",
      "Epoch 163: 100%|███████████████████████████████████████████████████████| 18/18 [00:00<00:00, 167.87batch/s, huber=2e+3]\n",
      "Epoch 164: 100%|█████████████████████████████████████████████████████| 18/18 [00:00<00:00, 191.60batch/s, huber=1975.3]\n",
      "Epoch 165: 100%|█████████████████████████████████████████████████████| 18/18 [00:00<00:00, 162.67batch/s, huber=2107.0]\n",
      "Epoch 166: 100%|█████████████████████████████████████████████████████| 18/18 [00:00<00:00, 187.10batch/s, huber=2039.0]\n",
      "Epoch 167: 100%|█████████████████████████████████████████████████████| 18/18 [00:00<00:00, 180.71batch/s, huber=1990.8]\n",
      "Epoch 168: 100%|█████████████████████████████████████████████████████| 18/18 [00:00<00:00, 168.46batch/s, huber=2127.8]\n",
      "Epoch 169: 100%|█████████████████████████████████████████████████████| 18/18 [00:00<00:00, 175.50batch/s, huber=2016.9]\n",
      "Epoch 170: 100%|█████████████████████████████████████████████████████| 18/18 [00:00<00:00, 168.55batch/s, huber=2066.5]\n",
      "Epoch 171: 100%|█████████████████████████████████████████████████████| 18/18 [00:00<00:00, 169.39batch/s, huber=2035.6]\n",
      "Epoch 172: 100%|█████████████████████████████████████████████████████| 18/18 [00:00<00:00, 189.86batch/s, huber=2119.8]\n",
      "Epoch 173: 100%|███████████████████████████████████████████████████████| 18/18 [00:00<00:00, 187.28batch/s, huber=2e+3]\n",
      "Epoch 174: 100%|█████████████████████████████████████████████████████| 18/18 [00:00<00:00, 191.60batch/s, huber=1987.7]\n",
      "Epoch 175: 100%|█████████████████████████████████████████████████████| 18/18 [00:00<00:00, 128.94batch/s, huber=2041.5]\n",
      "Epoch 176: 100%|█████████████████████████████████████████████████████| 18/18 [00:00<00:00, 177.78batch/s, huber=2074.4]\n",
      "Epoch 177: 100%|█████████████████████████████████████████████████████| 18/18 [00:00<00:00, 183.20batch/s, huber=2016.6]\n",
      "Epoch 178: 100%|█████████████████████████████████████████████████████| 18/18 [00:00<00:00, 192.04batch/s, huber=2042.7]\n",
      "Epoch 179: 100%|█████████████████████████████████████████████████████| 18/18 [00:00<00:00, 189.03batch/s, huber=2009.8]\n",
      "Epoch 180: 100%|███████████████████████████████████████████████████████| 18/18 [00:00<00:00, 185.23batch/s, huber=2e+3]\n",
      "Epoch 181: 100%|█████████████████████████████████████████████████████| 18/18 [00:00<00:00, 177.63batch/s, huber=2012.4]\n",
      "Epoch 182: 100%|█████████████████████████████████████████████████████| 18/18 [00:00<00:00, 210.32batch/s, huber=2013.2]\n",
      "Epoch 183: 100%|█████████████████████████████████████████████████████| 18/18 [00:00<00:00, 202.69batch/s, huber=2101.0]\n",
      "Epoch 184: 100%|█████████████████████████████████████████████████████| 18/18 [00:00<00:00, 176.54batch/s, huber=2063.5]\n",
      "Epoch 185: 100%|█████████████████████████████████████████████████████| 18/18 [00:00<00:00, 147.76batch/s, huber=2029.4]\n",
      "Epoch 186: 100%|█████████████████████████████████████████████████████| 18/18 [00:00<00:00, 167.04batch/s, huber=1985.9]\n",
      "Epoch 187: 100%|█████████████████████████████████████████████████████| 18/18 [00:00<00:00, 162.96batch/s, huber=1972.0]\n",
      "Epoch 188: 100%|█████████████████████████████████████████████████████| 18/18 [00:00<00:00, 166.51batch/s, huber=1974.0]\n",
      "Epoch 189: 100%|███████████████████████████████████████████████████████| 18/18 [00:00<00:00, 173.99batch/s, huber=2e+3]\n",
      "Epoch 190: 100%|█████████████████████████████████████████████████████| 18/18 [00:00<00:00, 166.56batch/s, huber=2006.9]\n",
      "Epoch 191: 100%|███████████████████████████████████████████████████████| 18/18 [00:00<00:00, 173.46batch/s, huber=2e+3]\n",
      "Epoch 192: 100%|█████████████████████████████████████████████████████| 18/18 [00:00<00:00, 169.37batch/s, huber=2034.8]\n",
      "Epoch 193: 100%|█████████████████████████████████████████████████████| 18/18 [00:00<00:00, 164.80batch/s, huber=2063.3]\n",
      "Epoch 194: 100%|█████████████████████████████████████████████████████| 18/18 [00:00<00:00, 187.06batch/s, huber=1980.0]\n",
      "Epoch 195: 100%|█████████████████████████████████████████████████████| 18/18 [00:00<00:00, 189.57batch/s, huber=2070.8]\n",
      "Epoch 196: 100%|█████████████████████████████████████████████████████| 18/18 [00:00<00:00, 199.38batch/s, huber=1994.8]\n",
      "Epoch 197: 100%|█████████████████████████████████████████████████████| 18/18 [00:00<00:00, 188.61batch/s, huber=1991.7]\n",
      "Epoch 198: 100%|█████████████████████████████████████████████████████| 18/18 [00:00<00:00, 141.01batch/s, huber=2038.2]\n",
      "Epoch 199: 100%|█████████████████████████████████████████████████████| 18/18 [00:00<00:00, 153.99batch/s, huber=1994.0]\n",
      "Epoch 200: 100%|█████████████████████████████████████████████████████| 18/18 [00:00<00:00, 163.12batch/s, huber=1956.7]\n"
     ]
    }
   ],
   "source": [
    "regression_model.train()\n",
    "\n",
    "for epoch in range(1, EPOCHS+1):\n",
    "    with tqdm.tqdm(BATCH_START, unit=\"batch\", mininterval=0, disable=False) as bar:\n",
    "        bar.set_description(f\"Epoch {epoch}\")\n",
    "        for start in bar:\n",
    "            X_batch = X_train[start: start + BATCH_SIZE]\n",
    "            y_batch = y_train[start: start + BATCH_SIZE]\n",
    "            predictions = regression_model(X_batch)\n",
    "            loss = mae_loss(predictions, y_batch)\n",
    "            optimizer.zero_grad()\n",
    "            loss.backward()\n",
    "            optimizer.step()\n",
    "            \n",
    "            bar.set_postfix(huber=float(round(loss.item(), 1)))"
   ]
  },
  {
   "cell_type": "code",
   "execution_count": 313,
   "id": "4efa2b7c",
   "metadata": {},
   "outputs": [
    {
     "name": "stdout",
     "output_type": "stream",
     "text": [
      "R Squared: 0.88. \n",
      "Mean Absolute Error: 1089.7633056640625\n"
     ]
    }
   ],
   "source": [
    "regression_model.eval()\n",
    "predictions = regression_model(X_test)\n",
    "\n",
    "df = pd.DataFrame(data = zip(list([i.item() for i in predictions.detach().numpy()]), [i.item() for i in  y_test]),\n",
    "                  columns= ['Predictions', 'Real'])\n",
    "\n",
    "\n",
    "r_squared = r2_score(df['Predictions'], df['Real'])\n",
    "\n",
    "mae = mae_loss(predictions, y_test).item()\n",
    "print(f'R Squared: {np.round(r_squared, 2)}. \\nMean Absolute Error: {mae}')\n"
   ]
  },
  {
   "cell_type": "code",
   "execution_count": 316,
   "id": "6903331f",
   "metadata": {},
   "outputs": [
    {
     "data": {
      "image/png": "[encoded data removed]",
      "text/plain": [
       "<Figure size 1400x600 with 1 Axes>"
      ]
     },
     "metadata": {},
     "output_type": "display_data"
    }
   ],
   "source": [
    "indices = np.random.choice(len(y_test), size= 50, replace= False)\n",
    "\n",
    "y_sample = df['Real'].loc[indices]\n",
    "pred_sample = df['Predictions'].loc[indices]\n",
    "\n",
    "x = np.arange(len(indices))\n",
    "width = 0.35  \n",
    "\n",
    "plt.figure(figsize=(14, 6))\n",
    "\n",
    "plt.bar(x - width / 2, y_sample, width, label=\"Actual\")\n",
    "plt.bar(x + width / 2, pred_sample, width, label=\"Predicted\")\n",
    "\n",
    "plt.xlabel(\"Sample Index (Random 50)\")\n",
    "plt.ylabel(\"Value\")\n",
    "plt.title(f\"Actual vs Predicted (50 Random Samples)\\nMAE = {mae:.2f} | R² = {r_squared:.3f}\", fontsize=16)\n",
    "plt.xticks(x, indices, rotation=90)  # show original indices\n",
    "plt.legend()\n",
    "plt.tight_layout()\n",
    "plt.show()"
   ]
  },
  {
   "cell_type": "code",
   "execution_count": null,
   "id": "eb6cbb54",
   "metadata": {},
   "outputs": [],
   "source": []
  },
  {
   "cell_type": "code",
   "execution_count": null,
   "id": "75db6685",
   "metadata": {},
   "outputs": [],
   "source": []
  },
  {
   "cell_type": "code",
   "execution_count": null,
   "id": "e0d38292",
   "metadata": {},
   "outputs": [],
   "source": []
  }
 ],
 "metadata": {
  "kernelspec": {
   "display_name": "Python 3 (ipykernel)",
   "language": "python",
   "name": "python3"
  },
  "language_info": {
   "codemirror_mode": {
    "name": "ipython",
    "version": 3
   },
   "file_extension": ".py",
   "mimetype": "text/x-python",
   "name": "python",
   "nbconvert_exporter": "python",
   "pygments_lexer": "ipython3",
   "version": "3.9.13"
  }
 },
 "nbformat": 4,
 "nbformat_minor": 5
}
